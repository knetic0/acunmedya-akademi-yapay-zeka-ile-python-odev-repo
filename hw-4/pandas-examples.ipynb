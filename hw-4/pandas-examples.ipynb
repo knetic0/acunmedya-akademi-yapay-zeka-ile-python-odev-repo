{
 "cells": [
  {
   "cell_type": "code",
   "execution_count": 1,
   "metadata": {},
   "outputs": [],
   "source": [
    "import pandas as pd # Pandas kutuphanesini import ediyoruz"
   ]
  },
  {
   "cell_type": "code",
   "execution_count": 2,
   "metadata": {},
   "outputs": [],
   "source": [
    "# Ardindan, bir DataFrame olusturuyoruz.\n",
    "# Bu dataframe'i olusturmak icin bir veri seti kullaniyorum.\n",
    "# Chocolate Sales.csv adinda bir veri setini kullanacam ve dataframe olarak okuyacagim.\n",
    "df = pd.read_csv(\"Chocolate Sales.csv\")"
   ]
  },
  {
   "cell_type": "code",
   "execution_count": 3,
   "metadata": {},
   "outputs": [
    {
     "data": {
      "text/html": [
       "<div>\n",
       "<style scoped>\n",
       "    .dataframe tbody tr th:only-of-type {\n",
       "        vertical-align: middle;\n",
       "    }\n",
       "\n",
       "    .dataframe tbody tr th {\n",
       "        vertical-align: top;\n",
       "    }\n",
       "\n",
       "    .dataframe thead th {\n",
       "        text-align: right;\n",
       "    }\n",
       "</style>\n",
       "<table border=\"1\" class=\"dataframe\">\n",
       "  <thead>\n",
       "    <tr style=\"text-align: right;\">\n",
       "      <th></th>\n",
       "      <th>Sales Person</th>\n",
       "      <th>Country</th>\n",
       "      <th>Product</th>\n",
       "      <th>Date</th>\n",
       "      <th>Amount</th>\n",
       "      <th>Boxes Shipped</th>\n",
       "    </tr>\n",
       "  </thead>\n",
       "  <tbody>\n",
       "    <tr>\n",
       "      <th>0</th>\n",
       "      <td>Jehu Rudeforth</td>\n",
       "      <td>UK</td>\n",
       "      <td>Mint Chip Choco</td>\n",
       "      <td>04-Jan-22</td>\n",
       "      <td>$5,320</td>\n",
       "      <td>180</td>\n",
       "    </tr>\n",
       "    <tr>\n",
       "      <th>1</th>\n",
       "      <td>Van Tuxwell</td>\n",
       "      <td>India</td>\n",
       "      <td>85% Dark Bars</td>\n",
       "      <td>01-Aug-22</td>\n",
       "      <td>$7,896</td>\n",
       "      <td>94</td>\n",
       "    </tr>\n",
       "    <tr>\n",
       "      <th>2</th>\n",
       "      <td>Gigi Bohling</td>\n",
       "      <td>India</td>\n",
       "      <td>Peanut Butter Cubes</td>\n",
       "      <td>07-Jul-22</td>\n",
       "      <td>$4,501</td>\n",
       "      <td>91</td>\n",
       "    </tr>\n",
       "    <tr>\n",
       "      <th>3</th>\n",
       "      <td>Jan Morforth</td>\n",
       "      <td>Australia</td>\n",
       "      <td>Peanut Butter Cubes</td>\n",
       "      <td>27-Apr-22</td>\n",
       "      <td>$12,726</td>\n",
       "      <td>342</td>\n",
       "    </tr>\n",
       "    <tr>\n",
       "      <th>4</th>\n",
       "      <td>Jehu Rudeforth</td>\n",
       "      <td>UK</td>\n",
       "      <td>Peanut Butter Cubes</td>\n",
       "      <td>24-Feb-22</td>\n",
       "      <td>$13,685</td>\n",
       "      <td>184</td>\n",
       "    </tr>\n",
       "  </tbody>\n",
       "</table>\n",
       "</div>"
      ],
      "text/plain": [
       "     Sales Person    Country              Product       Date    Amount  \\\n",
       "0  Jehu Rudeforth         UK      Mint Chip Choco  04-Jan-22   $5,320    \n",
       "1     Van Tuxwell      India        85% Dark Bars  01-Aug-22   $7,896    \n",
       "2    Gigi Bohling      India  Peanut Butter Cubes  07-Jul-22   $4,501    \n",
       "3    Jan Morforth  Australia  Peanut Butter Cubes  27-Apr-22  $12,726    \n",
       "4  Jehu Rudeforth         UK  Peanut Butter Cubes  24-Feb-22  $13,685    \n",
       "\n",
       "   Boxes Shipped  \n",
       "0            180  \n",
       "1             94  \n",
       "2             91  \n",
       "3            342  \n",
       "4            184  "
      ]
     },
     "execution_count": 3,
     "metadata": {},
     "output_type": "execute_result"
    }
   ],
   "source": [
    "# Veri setimin basarili bir sekilde okunup okunmadigini kontrol etmek icin\n",
    "# ilk 5 satirini yazdiriyorum.\n",
    "df.head()\n",
    "# parametre olarak herhangi bir sayi da verebilirim. Varsayilan olarak 5 satir yazdirir.\n",
    "# df.head(10) gibi"
   ]
  },
  {
   "cell_type": "code",
   "execution_count": null,
   "metadata": {},
   "outputs": [
    {
     "name": "stdout",
     "output_type": "stream",
     "text": [
      "<class 'pandas.core.frame.DataFrame'>\n",
      "RangeIndex: 1094 entries, 0 to 1093\n",
      "Data columns (total 6 columns):\n",
      " #   Column         Non-Null Count  Dtype \n",
      "---  ------         --------------  ----- \n",
      " 0   Sales Person   1094 non-null   object\n",
      " 1   Country        1094 non-null   object\n",
      " 2   Product        1094 non-null   object\n",
      " 3   Date           1094 non-null   object\n",
      " 4   Amount         1094 non-null   object\n",
      " 5   Boxes Shipped  1094 non-null   int64 \n",
      "dtypes: int64(1), object(5)\n",
      "memory usage: 51.4+ KB\n"
     ]
    }
   ],
   "source": [
    "# Veri setindeki sutunlarin adi, tipi, null olup olmadigi ve bellek kullanimi hakkinda bilgi almak icin\n",
    "# info() fonksiyonunu kullanabilirim.\n",
    "df.info()"
   ]
  },
  {
   "cell_type": "code",
   "execution_count": 6,
   "metadata": {},
   "outputs": [
    {
     "data": {
      "text/plain": [
       "Sales Person     0\n",
       "Country          0\n",
       "Product          0\n",
       "Date             0\n",
       "Amount           0\n",
       "Boxes Shipped    0\n",
       "dtype: int64"
      ]
     },
     "execution_count": 6,
     "metadata": {},
     "output_type": "execute_result"
    }
   ],
   "source": [
    "# Veri setindeki null degerleri kontrol etmek icin\n",
    "# isnull() fonksiyonunu kullanabilirim.\n",
    "df.isnull().sum()\n",
    "# Eger veri setinde null deger varsa, bu degerlerin sayisini yazdirir."
   ]
  },
  {
   "cell_type": "code",
   "execution_count": null,
   "metadata": {},
   "outputs": [
    {
     "data": {
      "text/plain": [
       "(1094, 6)"
      ]
     },
     "execution_count": 24,
     "metadata": {},
     "output_type": "execute_result"
    }
   ],
   "source": [
    "# Veri setimin satir ve sutun sayisini ogrenmek icin\n",
    "# shape ozelligini kullanabilirim.\n",
    "df.shape\n",
    "# shape ozelligi, bir tuple dondurur. Ilk eleman satir sayisini, ikinci eleman sutun sayisini verir."
   ]
  },
  {
   "cell_type": "code",
   "execution_count": null,
   "metadata": {},
   "outputs": [],
   "source": [
    "df_copy = df.copy() # Veri setini kopyalayarak df_copy adinda yeni bir dataframe olusturuyorum."
   ]
  },
  {
   "cell_type": "code",
   "execution_count": 27,
   "metadata": {},
   "outputs": [
    {
     "data": {
      "text/plain": [
       "Sales Person      Jehu Rudeforth\n",
       "Country                       UK\n",
       "Product          Mint Chip Choco\n",
       "Date                   04-Jan-22\n",
       "Amount                   $5,320 \n",
       "Boxes Shipped                180\n",
       "Name: 0, dtype: object"
      ]
     },
     "execution_count": 27,
     "metadata": {},
     "output_type": "execute_result"
    }
   ],
   "source": [
    "df.loc[0] # Veri setindeki ilk satiri yazdirir."
   ]
  },
  {
   "cell_type": "code",
   "execution_count": 28,
   "metadata": {},
   "outputs": [
    {
     "data": {
      "text/html": [
       "<div>\n",
       "<style scoped>\n",
       "    .dataframe tbody tr th:only-of-type {\n",
       "        vertical-align: middle;\n",
       "    }\n",
       "\n",
       "    .dataframe tbody tr th {\n",
       "        vertical-align: top;\n",
       "    }\n",
       "\n",
       "    .dataframe thead th {\n",
       "        text-align: right;\n",
       "    }\n",
       "</style>\n",
       "<table border=\"1\" class=\"dataframe\">\n",
       "  <thead>\n",
       "    <tr style=\"text-align: right;\">\n",
       "      <th></th>\n",
       "      <th>Sales Person</th>\n",
       "      <th>Country</th>\n",
       "      <th>Product</th>\n",
       "      <th>Date</th>\n",
       "      <th>Amount</th>\n",
       "      <th>Boxes Shipped</th>\n",
       "    </tr>\n",
       "  </thead>\n",
       "  <tbody>\n",
       "    <tr>\n",
       "      <th>0</th>\n",
       "      <td>Jehu Rudeforth</td>\n",
       "      <td>UK</td>\n",
       "      <td>Mint Chip Choco</td>\n",
       "      <td>04-Jan-22</td>\n",
       "      <td>$5,320</td>\n",
       "      <td>180</td>\n",
       "    </tr>\n",
       "    <tr>\n",
       "      <th>1</th>\n",
       "      <td>Van Tuxwell</td>\n",
       "      <td>India</td>\n",
       "      <td>85% Dark Bars</td>\n",
       "      <td>01-Aug-22</td>\n",
       "      <td>$7,896</td>\n",
       "      <td>94</td>\n",
       "    </tr>\n",
       "    <tr>\n",
       "      <th>2</th>\n",
       "      <td>Gigi Bohling</td>\n",
       "      <td>India</td>\n",
       "      <td>Peanut Butter Cubes</td>\n",
       "      <td>07-Jul-22</td>\n",
       "      <td>$4,501</td>\n",
       "      <td>91</td>\n",
       "    </tr>\n",
       "    <tr>\n",
       "      <th>3</th>\n",
       "      <td>Jan Morforth</td>\n",
       "      <td>Australia</td>\n",
       "      <td>Peanut Butter Cubes</td>\n",
       "      <td>27-Apr-22</td>\n",
       "      <td>$12,726</td>\n",
       "      <td>342</td>\n",
       "    </tr>\n",
       "    <tr>\n",
       "      <th>4</th>\n",
       "      <td>Jehu Rudeforth</td>\n",
       "      <td>UK</td>\n",
       "      <td>Peanut Butter Cubes</td>\n",
       "      <td>24-Feb-22</td>\n",
       "      <td>$13,685</td>\n",
       "      <td>184</td>\n",
       "    </tr>\n",
       "    <tr>\n",
       "      <th>5</th>\n",
       "      <td>Van Tuxwell</td>\n",
       "      <td>India</td>\n",
       "      <td>Smooth Sliky Salty</td>\n",
       "      <td>06-Jun-22</td>\n",
       "      <td>$5,376</td>\n",
       "      <td>38</td>\n",
       "    </tr>\n",
       "  </tbody>\n",
       "</table>\n",
       "</div>"
      ],
      "text/plain": [
       "     Sales Person    Country              Product       Date    Amount  \\\n",
       "0  Jehu Rudeforth         UK      Mint Chip Choco  04-Jan-22   $5,320    \n",
       "1     Van Tuxwell      India        85% Dark Bars  01-Aug-22   $7,896    \n",
       "2    Gigi Bohling      India  Peanut Butter Cubes  07-Jul-22   $4,501    \n",
       "3    Jan Morforth  Australia  Peanut Butter Cubes  27-Apr-22  $12,726    \n",
       "4  Jehu Rudeforth         UK  Peanut Butter Cubes  24-Feb-22  $13,685    \n",
       "5     Van Tuxwell      India   Smooth Sliky Salty  06-Jun-22   $5,376    \n",
       "\n",
       "   Boxes Shipped  \n",
       "0            180  \n",
       "1             94  \n",
       "2             91  \n",
       "3            342  \n",
       "4            184  \n",
       "5             38  "
      ]
     },
     "execution_count": 28,
     "metadata": {},
     "output_type": "execute_result"
    }
   ],
   "source": [
    "df.loc[0:5] # Veri setindeki ilk 5 satiri yazdirir."
   ]
  },
  {
   "cell_type": "code",
   "execution_count": 29,
   "metadata": {},
   "outputs": [
    {
     "data": {
      "text/plain": [
       "0        Mint Chip Choco\n",
       "1          85% Dark Bars\n",
       "2    Peanut Butter Cubes\n",
       "3    Peanut Butter Cubes\n",
       "4    Peanut Butter Cubes\n",
       "5     Smooth Sliky Salty\n",
       "Name: Product, dtype: object"
      ]
     },
     "execution_count": 29,
     "metadata": {},
     "output_type": "execute_result"
    }
   ],
   "source": [
    "df.loc[0:5, \"Product\"] # Veri setindeki ilk 5 satirin Product sutununu yazdirir."
   ]
  },
  {
   "cell_type": "code",
   "execution_count": 30,
   "metadata": {},
   "outputs": [
    {
     "data": {
      "text/html": [
       "<div>\n",
       "<style scoped>\n",
       "    .dataframe tbody tr th:only-of-type {\n",
       "        vertical-align: middle;\n",
       "    }\n",
       "\n",
       "    .dataframe tbody tr th {\n",
       "        vertical-align: top;\n",
       "    }\n",
       "\n",
       "    .dataframe thead th {\n",
       "        text-align: right;\n",
       "    }\n",
       "</style>\n",
       "<table border=\"1\" class=\"dataframe\">\n",
       "  <thead>\n",
       "    <tr style=\"text-align: right;\">\n",
       "      <th></th>\n",
       "      <th>Product</th>\n",
       "      <th>Sales Person</th>\n",
       "    </tr>\n",
       "  </thead>\n",
       "  <tbody>\n",
       "    <tr>\n",
       "      <th>0</th>\n",
       "      <td>Mint Chip Choco</td>\n",
       "      <td>Jehu Rudeforth</td>\n",
       "    </tr>\n",
       "    <tr>\n",
       "      <th>1</th>\n",
       "      <td>85% Dark Bars</td>\n",
       "      <td>Van Tuxwell</td>\n",
       "    </tr>\n",
       "    <tr>\n",
       "      <th>2</th>\n",
       "      <td>Peanut Butter Cubes</td>\n",
       "      <td>Gigi Bohling</td>\n",
       "    </tr>\n",
       "    <tr>\n",
       "      <th>3</th>\n",
       "      <td>Peanut Butter Cubes</td>\n",
       "      <td>Jan Morforth</td>\n",
       "    </tr>\n",
       "    <tr>\n",
       "      <th>4</th>\n",
       "      <td>Peanut Butter Cubes</td>\n",
       "      <td>Jehu Rudeforth</td>\n",
       "    </tr>\n",
       "    <tr>\n",
       "      <th>5</th>\n",
       "      <td>Smooth Sliky Salty</td>\n",
       "      <td>Van Tuxwell</td>\n",
       "    </tr>\n",
       "  </tbody>\n",
       "</table>\n",
       "</div>"
      ],
      "text/plain": [
       "               Product    Sales Person\n",
       "0      Mint Chip Choco  Jehu Rudeforth\n",
       "1        85% Dark Bars     Van Tuxwell\n",
       "2  Peanut Butter Cubes    Gigi Bohling\n",
       "3  Peanut Butter Cubes    Jan Morforth\n",
       "4  Peanut Butter Cubes  Jehu Rudeforth\n",
       "5   Smooth Sliky Salty     Van Tuxwell"
      ]
     },
     "execution_count": 30,
     "metadata": {},
     "output_type": "execute_result"
    }
   ],
   "source": [
    "df.loc[0:5, [\"Product\", \"Sales Person\"]] # Veri setindeki ilk 5 satirin Product ve Sales sutunlarini yazdirir."
   ]
  },
  {
   "cell_type": "code",
   "execution_count": 31,
   "metadata": {},
   "outputs": [
    {
     "data": {
      "text/html": [
       "<div>\n",
       "<style scoped>\n",
       "    .dataframe tbody tr th:only-of-type {\n",
       "        vertical-align: middle;\n",
       "    }\n",
       "\n",
       "    .dataframe tbody tr th {\n",
       "        vertical-align: top;\n",
       "    }\n",
       "\n",
       "    .dataframe thead th {\n",
       "        text-align: right;\n",
       "    }\n",
       "</style>\n",
       "<table border=\"1\" class=\"dataframe\">\n",
       "  <thead>\n",
       "    <tr style=\"text-align: right;\">\n",
       "      <th></th>\n",
       "      <th>Sales Person</th>\n",
       "      <th>Country</th>\n",
       "    </tr>\n",
       "  </thead>\n",
       "  <tbody>\n",
       "    <tr>\n",
       "      <th>0</th>\n",
       "      <td>Jehu Rudeforth</td>\n",
       "      <td>UK</td>\n",
       "    </tr>\n",
       "    <tr>\n",
       "      <th>1</th>\n",
       "      <td>Van Tuxwell</td>\n",
       "      <td>India</td>\n",
       "    </tr>\n",
       "    <tr>\n",
       "      <th>2</th>\n",
       "      <td>Gigi Bohling</td>\n",
       "      <td>India</td>\n",
       "    </tr>\n",
       "    <tr>\n",
       "      <th>3</th>\n",
       "      <td>Jan Morforth</td>\n",
       "      <td>Australia</td>\n",
       "    </tr>\n",
       "    <tr>\n",
       "      <th>4</th>\n",
       "      <td>Jehu Rudeforth</td>\n",
       "      <td>UK</td>\n",
       "    </tr>\n",
       "  </tbody>\n",
       "</table>\n",
       "</div>"
      ],
      "text/plain": [
       "     Sales Person    Country\n",
       "0  Jehu Rudeforth         UK\n",
       "1     Van Tuxwell      India\n",
       "2    Gigi Bohling      India\n",
       "3    Jan Morforth  Australia\n",
       "4  Jehu Rudeforth         UK"
      ]
     },
     "execution_count": 31,
     "metadata": {},
     "output_type": "execute_result"
    }
   ],
   "source": [
    "df.iloc[0:5, 0:2] # Veri setindeki ilk 5 satirin ilk 2 sutununu yazdirir."
   ]
  },
  {
   "cell_type": "code",
   "execution_count": 32,
   "metadata": {},
   "outputs": [
    {
     "data": {
      "text/html": [
       "<div>\n",
       "<style scoped>\n",
       "    .dataframe tbody tr th:only-of-type {\n",
       "        vertical-align: middle;\n",
       "    }\n",
       "\n",
       "    .dataframe tbody tr th {\n",
       "        vertical-align: top;\n",
       "    }\n",
       "\n",
       "    .dataframe thead th {\n",
       "        text-align: right;\n",
       "    }\n",
       "</style>\n",
       "<table border=\"1\" class=\"dataframe\">\n",
       "  <thead>\n",
       "    <tr style=\"text-align: right;\">\n",
       "      <th></th>\n",
       "      <th>Date</th>\n",
       "    </tr>\n",
       "  </thead>\n",
       "  <tbody>\n",
       "    <tr>\n",
       "      <th>500</th>\n",
       "      <td>14-Apr-22</td>\n",
       "    </tr>\n",
       "    <tr>\n",
       "      <th>501</th>\n",
       "      <td>07-Jul-22</td>\n",
       "    </tr>\n",
       "    <tr>\n",
       "      <th>502</th>\n",
       "      <td>24-Aug-22</td>\n",
       "    </tr>\n",
       "    <tr>\n",
       "      <th>503</th>\n",
       "      <td>24-Feb-22</td>\n",
       "    </tr>\n",
       "    <tr>\n",
       "      <th>504</th>\n",
       "      <td>09-May-22</td>\n",
       "    </tr>\n",
       "    <tr>\n",
       "      <th>...</th>\n",
       "      <td>...</td>\n",
       "    </tr>\n",
       "    <tr>\n",
       "      <th>1089</th>\n",
       "      <td>17-May-22</td>\n",
       "    </tr>\n",
       "    <tr>\n",
       "      <th>1090</th>\n",
       "      <td>07-Jun-22</td>\n",
       "    </tr>\n",
       "    <tr>\n",
       "      <th>1091</th>\n",
       "      <td>26-Jul-22</td>\n",
       "    </tr>\n",
       "    <tr>\n",
       "      <th>1092</th>\n",
       "      <td>28-Jul-22</td>\n",
       "    </tr>\n",
       "    <tr>\n",
       "      <th>1093</th>\n",
       "      <td>23-May-22</td>\n",
       "    </tr>\n",
       "  </tbody>\n",
       "</table>\n",
       "<p>594 rows × 1 columns</p>\n",
       "</div>"
      ],
      "text/plain": [
       "           Date\n",
       "500   14-Apr-22\n",
       "501   07-Jul-22\n",
       "502   24-Aug-22\n",
       "503   24-Feb-22\n",
       "504   09-May-22\n",
       "...         ...\n",
       "1089  17-May-22\n",
       "1090  07-Jun-22\n",
       "1091  26-Jul-22\n",
       "1092  28-Jul-22\n",
       "1093  23-May-22\n",
       "\n",
       "[594 rows x 1 columns]"
      ]
     },
     "execution_count": 32,
     "metadata": {},
     "output_type": "execute_result"
    }
   ],
   "source": [
    "df.iloc[500:, 3:4] # Veri setindeki 500. satirdan sonraki satirlarin 3. sutununu yazdirir."
   ]
  },
  {
   "cell_type": "code",
   "execution_count": null,
   "metadata": {},
   "outputs": [],
   "source": [
    "# Veri setinde Country alaninin sadece India degerlerini almak icin\n",
    "# query() fonksiyonunu kullanabilirim.\n",
    "# query() fonksiyonu, verilen sorguya gore filtreleme yapar.\n",
    "india_data = df.query(\"Country == 'India'\")\n",
    "# query() fonksiyonu icine yazdigim sorguya gore filtreleme yapar."
   ]
  },
  {
   "cell_type": "code",
   "execution_count": 9,
   "metadata": {},
   "outputs": [
    {
     "data": {
      "text/html": [
       "<div>\n",
       "<style scoped>\n",
       "    .dataframe tbody tr th:only-of-type {\n",
       "        vertical-align: middle;\n",
       "    }\n",
       "\n",
       "    .dataframe tbody tr th {\n",
       "        vertical-align: top;\n",
       "    }\n",
       "\n",
       "    .dataframe thead th {\n",
       "        text-align: right;\n",
       "    }\n",
       "</style>\n",
       "<table border=\"1\" class=\"dataframe\">\n",
       "  <thead>\n",
       "    <tr style=\"text-align: right;\">\n",
       "      <th></th>\n",
       "      <th>Sales Person</th>\n",
       "      <th>Country</th>\n",
       "      <th>Product</th>\n",
       "      <th>Date</th>\n",
       "      <th>Amount</th>\n",
       "      <th>Boxes Shipped</th>\n",
       "    </tr>\n",
       "  </thead>\n",
       "  <tbody>\n",
       "    <tr>\n",
       "      <th>1075</th>\n",
       "      <td>Roddy Speechley</td>\n",
       "      <td>India</td>\n",
       "      <td>Spicy Special Slims</td>\n",
       "      <td>22-Mar-22</td>\n",
       "      <td>$10,647</td>\n",
       "      <td>173</td>\n",
       "    </tr>\n",
       "    <tr>\n",
       "      <th>1084</th>\n",
       "      <td>Roddy Speechley</td>\n",
       "      <td>India</td>\n",
       "      <td>50% Dark Bites</td>\n",
       "      <td>14-Mar-22</td>\n",
       "      <td>$8,337</td>\n",
       "      <td>12</td>\n",
       "    </tr>\n",
       "    <tr>\n",
       "      <th>1087</th>\n",
       "      <td>Beverie Moffet</td>\n",
       "      <td>India</td>\n",
       "      <td>Almond Choco</td>\n",
       "      <td>24-May-22</td>\n",
       "      <td>$3,066</td>\n",
       "      <td>96</td>\n",
       "    </tr>\n",
       "    <tr>\n",
       "      <th>1092</th>\n",
       "      <td>Dotty Strutley</td>\n",
       "      <td>India</td>\n",
       "      <td>Eclairs</td>\n",
       "      <td>28-Jul-22</td>\n",
       "      <td>$2,086</td>\n",
       "      <td>384</td>\n",
       "    </tr>\n",
       "    <tr>\n",
       "      <th>1093</th>\n",
       "      <td>Karlen McCaffrey</td>\n",
       "      <td>India</td>\n",
       "      <td>70% Dark Bites</td>\n",
       "      <td>23-May-22</td>\n",
       "      <td>$5,075</td>\n",
       "      <td>344</td>\n",
       "    </tr>\n",
       "  </tbody>\n",
       "</table>\n",
       "</div>"
      ],
      "text/plain": [
       "          Sales Person Country              Product       Date    Amount  \\\n",
       "1075   Roddy Speechley   India  Spicy Special Slims  22-Mar-22  $10,647    \n",
       "1084   Roddy Speechley   India       50% Dark Bites  14-Mar-22   $8,337    \n",
       "1087    Beverie Moffet   India         Almond Choco  24-May-22   $3,066    \n",
       "1092    Dotty Strutley   India              Eclairs  28-Jul-22   $2,086    \n",
       "1093  Karlen McCaffrey   India       70% Dark Bites  23-May-22   $5,075    \n",
       "\n",
       "      Boxes Shipped  \n",
       "1075            173  \n",
       "1084             12  \n",
       "1087             96  \n",
       "1092            384  \n",
       "1093            344  "
      ]
     },
     "execution_count": 9,
     "metadata": {},
     "output_type": "execute_result"
    }
   ],
   "source": [
    "# Country = India olan filterelenmis verinin son 5 satirini yazdiriyorum.\n",
    "india_data.tail()"
   ]
  },
  {
   "cell_type": "code",
   "execution_count": null,
   "metadata": {},
   "outputs": [
    {
     "data": {
      "text/plain": [
       "Sales Person\n",
       "Andria Kimpton    39\n",
       "Barr Faughny      43\n",
       "Beverie Moffet    50\n",
       "Brien Boise       53\n",
       "Camilla Castle    32\n",
       "Name: Country, dtype: int64"
      ]
     },
     "execution_count": 13,
     "metadata": {},
     "output_type": "execute_result"
    }
   ],
   "source": [
    "# Verileri Sales Person'a gore gruplamak icin\n",
    "# groupby() fonksiyonunu kullanabilirim.\n",
    "grouped_data = df.groupby(\"Sales Person\")[\"Country\"].count()\n",
    "# groupby() fonksiyonu ile Sales Person sutununa gore gruplama yapar.\n",
    "# count() fonksiyonu ile degerlerin sayisini alir.\n",
    "grouped_data.head()"
   ]
  },
  {
   "cell_type": "code",
   "execution_count": 15,
   "metadata": {},
   "outputs": [
    {
     "data": {
      "text/plain": [
       "array(['UK', 'India', 'Australia', 'New Zealand', 'USA', 'Canada'],\n",
       "      dtype=object)"
      ]
     },
     "execution_count": 15,
     "metadata": {},
     "output_type": "execute_result"
    }
   ],
   "source": [
    "# Veri setindeki bir sutunun unique degerlerini almak icin\n",
    "# unique() fonksiyonunu kullanabilirim.\n",
    "unique_countries = df[\"Country\"].unique()\n",
    "# Country sutunundaki unique degerleri alir.\n",
    "unique_countries"
   ]
  },
  {
   "cell_type": "code",
   "execution_count": 16,
   "metadata": {},
   "outputs": [
    {
     "data": {
      "text/plain": [
       "0       False\n",
       "1       False\n",
       "2       False\n",
       "3       False\n",
       "4       False\n",
       "        ...  \n",
       "1089    False\n",
       "1090    False\n",
       "1091    False\n",
       "1092    False\n",
       "1093    False\n",
       "Length: 1094, dtype: bool"
      ]
     },
     "execution_count": 16,
     "metadata": {},
     "output_type": "execute_result"
    }
   ],
   "source": [
    "# Veri setindeki duplicate degerleri kontrol etmek icin\n",
    "# duplicated() fonksiyonunu kullanabilirim.\n",
    "duplicates = df.duplicated()\n",
    "# duplicate deger varsa True, yoksa False doner.\n",
    "duplicates"
   ]
  },
  {
   "cell_type": "code",
   "execution_count": null,
   "metadata": {},
   "outputs": [
    {
     "data": {
      "text/html": [
       "<div>\n",
       "<style scoped>\n",
       "    .dataframe tbody tr th:only-of-type {\n",
       "        vertical-align: middle;\n",
       "    }\n",
       "\n",
       "    .dataframe tbody tr th {\n",
       "        vertical-align: top;\n",
       "    }\n",
       "\n",
       "    .dataframe thead th {\n",
       "        text-align: right;\n",
       "    }\n",
       "</style>\n",
       "<table border=\"1\" class=\"dataframe\">\n",
       "  <thead>\n",
       "    <tr style=\"text-align: right;\">\n",
       "      <th></th>\n",
       "      <th>Sales Person</th>\n",
       "      <th>Country</th>\n",
       "      <th>Product</th>\n",
       "      <th>Date</th>\n",
       "      <th>Amount</th>\n",
       "      <th>Boxes Shipped</th>\n",
       "    </tr>\n",
       "  </thead>\n",
       "  <tbody>\n",
       "    <tr>\n",
       "      <th>32</th>\n",
       "      <td>Wilone O'Kielt</td>\n",
       "      <td>Australia</td>\n",
       "      <td>Manuka Honey Choco</td>\n",
       "      <td>11-May-22</td>\n",
       "      <td>$4,284</td>\n",
       "      <td>94</td>\n",
       "    </tr>\n",
       "    <tr>\n",
       "      <th>65</th>\n",
       "      <td>Wilone O'Kielt</td>\n",
       "      <td>Australia</td>\n",
       "      <td>Caramel Stuffed Bars</td>\n",
       "      <td>14-Apr-22</td>\n",
       "      <td>$2,030</td>\n",
       "      <td>11</td>\n",
       "    </tr>\n",
       "    <tr>\n",
       "      <th>93</th>\n",
       "      <td>Wilone O'Kielt</td>\n",
       "      <td>Australia</td>\n",
       "      <td>Organic Choco Syrup</td>\n",
       "      <td>07-Jul-22</td>\n",
       "      <td>$1,743</td>\n",
       "      <td>111</td>\n",
       "    </tr>\n",
       "    <tr>\n",
       "      <th>114</th>\n",
       "      <td>Wilone O'Kielt</td>\n",
       "      <td>Australia</td>\n",
       "      <td>Drinking Coco</td>\n",
       "      <td>06-Apr-22</td>\n",
       "      <td>$623</td>\n",
       "      <td>283</td>\n",
       "    </tr>\n",
       "    <tr>\n",
       "      <th>192</th>\n",
       "      <td>Wilone O'Kielt</td>\n",
       "      <td>Australia</td>\n",
       "      <td>After Nines</td>\n",
       "      <td>27-May-22</td>\n",
       "      <td>$3,325</td>\n",
       "      <td>26</td>\n",
       "    </tr>\n",
       "  </tbody>\n",
       "</table>\n",
       "</div>"
      ],
      "text/plain": [
       "       Sales Person    Country               Product       Date   Amount  \\\n",
       "32   Wilone O'Kielt  Australia    Manuka Honey Choco  11-May-22  $4,284    \n",
       "65   Wilone O'Kielt  Australia  Caramel Stuffed Bars  14-Apr-22  $2,030    \n",
       "93   Wilone O'Kielt  Australia   Organic Choco Syrup  07-Jul-22  $1,743    \n",
       "114  Wilone O'Kielt  Australia         Drinking Coco  06-Apr-22    $623    \n",
       "192  Wilone O'Kielt  Australia           After Nines  27-May-22  $3,325    \n",
       "\n",
       "     Boxes Shipped  \n",
       "32              94  \n",
       "65              11  \n",
       "93             111  \n",
       "114            283  \n",
       "192             26  "
      ]
     },
     "execution_count": 17,
     "metadata": {},
     "output_type": "execute_result"
    }
   ],
   "source": [
    "# DataFrame'i belirtilen birden fazla sütuna göre sıralar.\n",
    "# columns: Sıralanacak sütunlar listesi.\n",
    "# ascending: Boolean veya boolean listesi. Varsayılan True.\n",
    "sorted_df = df.sort_values(by=[\"Country\", \"Sales Person\"], ascending=[True, False])\n",
    "sorted_df.head()\n",
    "# 32. satirdan baslatti, yani Country sutununa gore artan, Sales Person sutununa gore azalan\n",
    "# sekilde siralama yapar."
   ]
  },
  {
   "cell_type": "code",
   "execution_count": 18,
   "metadata": {},
   "outputs": [
    {
     "data": {
      "text/html": [
       "<div>\n",
       "<style scoped>\n",
       "    .dataframe tbody tr th:only-of-type {\n",
       "        vertical-align: middle;\n",
       "    }\n",
       "\n",
       "    .dataframe tbody tr th {\n",
       "        vertical-align: top;\n",
       "    }\n",
       "\n",
       "    .dataframe thead th {\n",
       "        text-align: right;\n",
       "    }\n",
       "</style>\n",
       "<table border=\"1\" class=\"dataframe\">\n",
       "  <thead>\n",
       "    <tr style=\"text-align: right;\">\n",
       "      <th></th>\n",
       "      <th>Satis Elemani</th>\n",
       "      <th>Ulke</th>\n",
       "      <th>Product</th>\n",
       "      <th>Date</th>\n",
       "      <th>Amount</th>\n",
       "      <th>Boxes Shipped</th>\n",
       "    </tr>\n",
       "  </thead>\n",
       "  <tbody>\n",
       "    <tr>\n",
       "      <th>0</th>\n",
       "      <td>Jehu Rudeforth</td>\n",
       "      <td>UK</td>\n",
       "      <td>Mint Chip Choco</td>\n",
       "      <td>04-Jan-22</td>\n",
       "      <td>$5,320</td>\n",
       "      <td>180</td>\n",
       "    </tr>\n",
       "    <tr>\n",
       "      <th>1</th>\n",
       "      <td>Van Tuxwell</td>\n",
       "      <td>India</td>\n",
       "      <td>85% Dark Bars</td>\n",
       "      <td>01-Aug-22</td>\n",
       "      <td>$7,896</td>\n",
       "      <td>94</td>\n",
       "    </tr>\n",
       "    <tr>\n",
       "      <th>2</th>\n",
       "      <td>Gigi Bohling</td>\n",
       "      <td>India</td>\n",
       "      <td>Peanut Butter Cubes</td>\n",
       "      <td>07-Jul-22</td>\n",
       "      <td>$4,501</td>\n",
       "      <td>91</td>\n",
       "    </tr>\n",
       "    <tr>\n",
       "      <th>3</th>\n",
       "      <td>Jan Morforth</td>\n",
       "      <td>Australia</td>\n",
       "      <td>Peanut Butter Cubes</td>\n",
       "      <td>27-Apr-22</td>\n",
       "      <td>$12,726</td>\n",
       "      <td>342</td>\n",
       "    </tr>\n",
       "    <tr>\n",
       "      <th>4</th>\n",
       "      <td>Jehu Rudeforth</td>\n",
       "      <td>UK</td>\n",
       "      <td>Peanut Butter Cubes</td>\n",
       "      <td>24-Feb-22</td>\n",
       "      <td>$13,685</td>\n",
       "      <td>184</td>\n",
       "    </tr>\n",
       "  </tbody>\n",
       "</table>\n",
       "</div>"
      ],
      "text/plain": [
       "    Satis Elemani       Ulke              Product       Date    Amount  \\\n",
       "0  Jehu Rudeforth         UK      Mint Chip Choco  04-Jan-22   $5,320    \n",
       "1     Van Tuxwell      India        85% Dark Bars  01-Aug-22   $7,896    \n",
       "2    Gigi Bohling      India  Peanut Butter Cubes  07-Jul-22   $4,501    \n",
       "3    Jan Morforth  Australia  Peanut Butter Cubes  27-Apr-22  $12,726    \n",
       "4  Jehu Rudeforth         UK  Peanut Butter Cubes  24-Feb-22  $13,685    \n",
       "\n",
       "   Boxes Shipped  \n",
       "0            180  \n",
       "1             94  \n",
       "2             91  \n",
       "3            342  \n",
       "4            184  "
      ]
     },
     "execution_count": 18,
     "metadata": {},
     "output_type": "execute_result"
    }
   ],
   "source": [
    "# DataFrame'deki sütun adlarını değiştirmek için\n",
    "# rename() fonksiyonunu kullanabilirim.\n",
    "# rename() fonksiyonu ile sütun adlarını değiştirir.\n",
    "# columns parametresi ile sütun adlarını değiştirir.\n",
    "df_renamed = df.rename(columns={\"Country\": \"Ulke\", \"Sales Person\": \"Satis Elemani\"})\n",
    "df_renamed.head()"
   ]
  },
  {
   "cell_type": "code",
   "execution_count": 19,
   "metadata": {},
   "outputs": [
    {
     "data": {
      "text/html": [
       "<div>\n",
       "<style scoped>\n",
       "    .dataframe tbody tr th:only-of-type {\n",
       "        vertical-align: middle;\n",
       "    }\n",
       "\n",
       "    .dataframe tbody tr th {\n",
       "        vertical-align: top;\n",
       "    }\n",
       "\n",
       "    .dataframe thead th {\n",
       "        text-align: right;\n",
       "    }\n",
       "</style>\n",
       "<table border=\"1\" class=\"dataframe\">\n",
       "  <thead>\n",
       "    <tr style=\"text-align: right;\">\n",
       "      <th></th>\n",
       "      <th>A</th>\n",
       "      <th>B</th>\n",
       "    </tr>\n",
       "  </thead>\n",
       "  <tbody>\n",
       "    <tr>\n",
       "      <th>0</th>\n",
       "      <td>1</td>\n",
       "      <td>4</td>\n",
       "    </tr>\n",
       "    <tr>\n",
       "      <th>1</th>\n",
       "      <td>2</td>\n",
       "      <td>5</td>\n",
       "    </tr>\n",
       "    <tr>\n",
       "      <th>2</th>\n",
       "      <td>3</td>\n",
       "      <td>6</td>\n",
       "    </tr>\n",
       "    <tr>\n",
       "      <th>0</th>\n",
       "      <td>4</td>\n",
       "      <td>7</td>\n",
       "    </tr>\n",
       "    <tr>\n",
       "      <th>1</th>\n",
       "      <td>5</td>\n",
       "      <td>8</td>\n",
       "    </tr>\n",
       "    <tr>\n",
       "      <th>2</th>\n",
       "      <td>6</td>\n",
       "      <td>9</td>\n",
       "    </tr>\n",
       "  </tbody>\n",
       "</table>\n",
       "</div>"
      ],
      "text/plain": [
       "   A  B\n",
       "0  1  4\n",
       "1  2  5\n",
       "2  3  6\n",
       "0  4  7\n",
       "1  5  8\n",
       "2  6  9"
      ]
     },
     "execution_count": 19,
     "metadata": {},
     "output_type": "execute_result"
    }
   ],
   "source": [
    "# Iki DataFrame'i birlestirmek icin\n",
    "# concat() fonksiyonunu kullanabilirim.\n",
    "# concat() fonksiyonu ile iki DataFrame'i birlestirir.\n",
    "# axis parametresi ile birlestirme yonunu belirler.\n",
    "# axis=0 ise satir bazli birlestirme yapar.\n",
    "# axis=1 ise sutun bazli birlestirme yapar.\n",
    "df1 = pd.DataFrame({\"A\": [1, 2, 3], \"B\": [4, 5, 6]})\n",
    "df2 = pd.DataFrame({\"A\": [4, 5, 6], \"B\": [7, 8, 9]})\n",
    "concatenated_df = pd.concat([df1, df2], axis=0)\n",
    "concatenated_df"
   ]
  },
  {
   "cell_type": "code",
   "execution_count": 23,
   "metadata": {},
   "outputs": [
    {
     "data": {
      "text/html": [
       "<div>\n",
       "<style scoped>\n",
       "    .dataframe tbody tr th:only-of-type {\n",
       "        vertical-align: middle;\n",
       "    }\n",
       "\n",
       "    .dataframe tbody tr th {\n",
       "        vertical-align: top;\n",
       "    }\n",
       "\n",
       "    .dataframe thead th {\n",
       "        text-align: right;\n",
       "    }\n",
       "</style>\n",
       "<table border=\"1\" class=\"dataframe\">\n",
       "  <thead>\n",
       "    <tr style=\"text-align: right;\">\n",
       "      <th></th>\n",
       "      <th>A</th>\n",
       "      <th>B</th>\n",
       "      <th>C</th>\n",
       "    </tr>\n",
       "  </thead>\n",
       "  <tbody>\n",
       "    <tr>\n",
       "      <th>0</th>\n",
       "      <td>2</td>\n",
       "      <td>5</td>\n",
       "      <td>7</td>\n",
       "    </tr>\n",
       "    <tr>\n",
       "      <th>1</th>\n",
       "      <td>3</td>\n",
       "      <td>6</td>\n",
       "      <td>8</td>\n",
       "    </tr>\n",
       "  </tbody>\n",
       "</table>\n",
       "</div>"
      ],
      "text/plain": [
       "   A  B  C\n",
       "0  2  5  7\n",
       "1  3  6  8"
      ]
     },
     "execution_count": 23,
     "metadata": {},
     "output_type": "execute_result"
    }
   ],
   "source": [
    "# Iki DataFrame'i bir sutun uzerinden birlestirmek icin\n",
    "# merge() fonksiyonunu kullanabilirim.\n",
    "# merge() fonksiyonu ile iki DataFrame'i birlestirir.\n",
    "# on parametresi ile birlestirme yapilacak sutunu belirler.\n",
    "df1 = pd.DataFrame({\"A\": [1, 2, 3],\"B\": [4, 5, 6]})\n",
    "df2 = pd.DataFrame({\"A\": [2, 3, 4],\"C\": [7, 8, 9]})\n",
    "merged_df = pd.merge(df1, df2, on=\"A\", how=\"inner\")\n",
    "merged_df"
   ]
  },
  {
   "cell_type": "code",
   "execution_count": null,
   "metadata": {},
   "outputs": [],
   "source": []
  }
 ],
 "metadata": {
  "kernelspec": {
   "display_name": "python_a",
   "language": "python",
   "name": "python3"
  },
  "language_info": {
   "codemirror_mode": {
    "name": "ipython",
    "version": 3
   },
   "file_extension": ".py",
   "mimetype": "text/x-python",
   "name": "python",
   "nbconvert_exporter": "python",
   "pygments_lexer": "ipython3",
   "version": "3.9.21"
  }
 },
 "nbformat": 4,
 "nbformat_minor": 2
}
