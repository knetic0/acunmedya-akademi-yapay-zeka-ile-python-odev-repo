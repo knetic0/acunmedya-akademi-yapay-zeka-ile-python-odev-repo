{
 "cells": [
  {
   "cell_type": "code",
   "execution_count": 1,
   "metadata": {},
   "outputs": [],
   "source": [
    "import numpy as np"
   ]
  },
  {
   "cell_type": "code",
   "execution_count": 2,
   "metadata": {},
   "outputs": [
    {
     "data": {
      "text/plain": [
       "array([1, 2, 3, 4, 5])"
      ]
     },
     "execution_count": 2,
     "metadata": {},
     "output_type": "execute_result"
    }
   ],
   "source": [
    "# Tek boyutlu dizi oluşturmak için\n",
    "# np.array() fonksiyonunu kullanabiliriz\n",
    "# np.array() fonksiyonuna bir liste vererek\n",
    "# numpy dizisi oluşturabiliriz\n",
    "arr = np.array([1, 2, 3, 4, 5])\n",
    "arr"
   ]
  },
  {
   "cell_type": "code",
   "execution_count": null,
   "metadata": {},
   "outputs": [
    {
     "data": {
      "text/plain": [
       "array([[0., 0.],\n",
       "       [0., 0.]])"
      ]
     },
     "execution_count": 4,
     "metadata": {},
     "output_type": "execute_result"
    }
   ],
   "source": [
    "# İki boyutlu ve her bir elemanı 0 olan bir dizi oluşturmak için\n",
    "# np.zeros() fonksiyonunu kullanabiliriz\n",
    "# np.zeros() fonksiyonuna bir tuple vererek\n",
    "# boyutlari belirleyebiliriz\n",
    "# Örneğin 2x2 boyutlarında bir dizi oluşturalım\n",
    "zeros = np.zeros((2, 2))\n",
    "zeros"
   ]
  },
  {
   "cell_type": "code",
   "execution_count": 5,
   "metadata": {},
   "outputs": [
    {
     "data": {
      "text/plain": [
       "array([[1., 1.],\n",
       "       [1., 1.]])"
      ]
     },
     "execution_count": 5,
     "metadata": {},
     "output_type": "execute_result"
    }
   ],
   "source": [
    "# İki boyutlu ve her bir elemanı 1 olan bir dizi oluşturmak için\n",
    "# np.ones() fonksiyonunu kullanabiliriz\n",
    "# np.ones() fonksiyonuna bir tuple vererek\n",
    "# boyutlari belirleyebiliriz\n",
    "# Örneğin 2x2 boyutlarında bir dizi oluşturalım\n",
    "ones = np.ones((2, 2))\n",
    "ones"
   ]
  },
  {
   "cell_type": "code",
   "execution_count": 6,
   "metadata": {},
   "outputs": [
    {
     "data": {
      "text/plain": [
       "array([0, 1, 2, 3, 4, 5, 6, 7, 8, 9])"
      ]
     },
     "execution_count": 6,
     "metadata": {},
     "output_type": "execute_result"
    }
   ],
   "source": [
    "# 0, n aralığında n tane elemanı olan bir dizi oluşturmak için\n",
    "# np.arange() fonksiyonunu kullanabiliriz\n",
    "_arange = np.arange(10)\n",
    "_arange"
   ]
  },
  {
   "cell_type": "code",
   "execution_count": 7,
   "metadata": {},
   "outputs": [
    {
     "data": {
      "text/plain": [
       "array([ 0. ,  2.5,  5. ,  7.5, 10. ])"
      ]
     },
     "execution_count": 7,
     "metadata": {},
     "output_type": "execute_result"
    }
   ],
   "source": [
    "# 0, 10 aralığında 5 tane elemanı olan bir dizi oluşturmak için\n",
    "# np.linspace() fonksiyonunu kullanabiliriz\n",
    "_linspace = np.linspace(0, 10, 5)\n",
    "_linspace"
   ]
  },
  {
   "cell_type": "code",
   "execution_count": 9,
   "metadata": {},
   "outputs": [
    {
     "data": {
      "text/plain": [
       "array([1, 2, 3, 4, 5, 6, 7, 8])"
      ]
     },
     "execution_count": 9,
     "metadata": {},
     "output_type": "execute_result"
    }
   ],
   "source": [
    "# Dizi elemanlarını sıralamak için\n",
    "# np.sort() fonksiyonunu kullanabiliriz\n",
    "# np.sort() fonksiyonuna bir dizi vererek\n",
    "# sıralanmış diziye ulaşabiliriz\n",
    "arr = np.array([2, 1, 5, 3, 7, 4, 6, 8])\n",
    "np.sort(arr)"
   ]
  },
  {
   "cell_type": "code",
   "execution_count": null,
   "metadata": {},
   "outputs": [
    {
     "data": {
      "text/plain": [
       "array([1, 2, 3, 4, 5, 6, 7, 8])"
      ]
     },
     "execution_count": 10,
     "metadata": {},
     "output_type": "execute_result"
    }
   ],
   "source": [
    "# Iki tane diziyi birleştirmek için\n",
    "# np.concatenate() fonksiyonunu kullanabiliriz\n",
    "# np.concatenate() fonksiyonuna bir tuple vererek\n",
    "# iki diziyi birleştirebiliriz\n",
    "a = np.array([1, 2, 3, 4])\n",
    "b = np.array([5, 6, 7, 8])\n",
    "np.concatenate((a, b))"
   ]
  },
  {
   "cell_type": "code",
   "execution_count": null,
   "metadata": {},
   "outputs": [
    {
     "data": {
      "text/plain": [
       "array([[0, 1, 2],\n",
       "       [3, 4, 5]])"
      ]
     },
     "execution_count": 11,
     "metadata": {},
     "output_type": "execute_result"
    }
   ],
   "source": [
    "# Diziyi yeniden şekillendirmek için\n",
    "# np.reshape() fonksiyonunu kullanabiliriz\n",
    "_a = np.arange(6)\n",
    "_a.reshape(2, 3)"
   ]
  },
  {
   "cell_type": "code",
   "execution_count": null,
   "metadata": {},
   "outputs": [
    {
     "data": {
      "text/plain": [
       "array([ 6,  8, 10, 12])"
      ]
     },
     "execution_count": 12,
     "metadata": {},
     "output_type": "execute_result"
    }
   ],
   "source": [
    "# Iki dizinin elemanlarını toplamak için\n",
    "# np.add() fonksiyonunu kullanabiliriz\n",
    "# np.add() fonksiyonuna iki dizi vererek\n",
    "# iki dizinin elemanlarını toplayabiliriz\n",
    "a = np.array([1, 2, 3, 4])\n",
    "b = np.array([5, 6, 7, 8])\n",
    "np.add(a, b)"
   ]
  },
  {
   "cell_type": "code",
   "execution_count": null,
   "metadata": {},
   "outputs": [],
   "source": [
    "# Iki dizinin elemanlarını çarpmak için\n",
    "# np.multiply() fonksiyonunu kullanabiliriz\n",
    "# np.multiply() fonksiyonuna iki dizi vererek\n",
    "# iki dizinin elemanlarını çıkarabiliriz\n",
    "a = np.array([1, 2, 3, 4])\n",
    "b = np.array([5, 6, 7, 8])\n",
    "np.multiply(a, b)"
   ]
  }
 ],
 "metadata": {
  "kernelspec": {
   "display_name": "python_a",
   "language": "python",
   "name": "python3"
  },
  "language_info": {
   "codemirror_mode": {
    "name": "ipython",
    "version": 3
   },
   "file_extension": ".py",
   "mimetype": "text/x-python",
   "name": "python",
   "nbconvert_exporter": "python",
   "pygments_lexer": "ipython3",
   "version": "3.9.21"
  }
 },
 "nbformat": 4,
 "nbformat_minor": 2
}
